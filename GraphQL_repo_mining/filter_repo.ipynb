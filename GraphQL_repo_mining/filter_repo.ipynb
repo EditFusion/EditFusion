{
 "cells": [
  {
   "cell_type": "code",
   "execution_count": null,
   "metadata": {},
   "outputs": [],
   "source": [
    "# Filter out repositories with fewer than 10 developers, that are forks, not in organizations, documentation-type repositories, or without a primary language.\n",
    "# Read the CSV file, filter out repositories that do not meet the criteria, and write to a new CSV file.\n",
    "import pandas as pd\n",
    "import numpy as np\n",
    "from pprint import pprint\n",
    "\n",
    "file_path = \"output/repos_100+_sshproto_with_size.csv\"\n",
    "df = pd.read_csv(file_path)\n",
    "\n",
    "\n",
    "df.info()\n",
    "print(df.head())"
   ]
  },
  {
   "cell_type": "code",
   "execution_count": null,
   "metadata": {},
   "outputs": [],
   "source": [
    "import matplotlib.pyplot as plt\n",
    "\n",
    "# Count the number of repositories for each primary language\n",
    "language_counts = df[\"primaryLanguage\"].value_counts().head(20)\n",
    "\n",
    "# Plot a bar chart\n",
    "plt.figure(figsize=(10, 6))\n",
    "language_counts.plot(kind=\"bar\", color=\"skyblue\")\n",
    "plt.title(\"Number of Repositories by Primary Language\")\n",
    "plt.xlabel(\"Primary Language\")\n",
    "plt.ylabel(\"Count\")\n",
    "plt.xticks(rotation=45)\n",
    "plt.show()"
   ]
  },
  {
   "cell_type": "code",
   "execution_count": null,
   "metadata": {},
   "outputs": [],
   "source": [
    "# Check for duplicate repositories\n",
    "duplicates = df[df.duplicated(\"url\", keep=False)]\n",
    "# Number of duplicates\n",
    "print(duplicates.shape[0])\n",
    "# Print name, url, isFork columns\n",
    "# print(duplicates[[\"name\", \"url\", \"isFork\", \"stargazerCount\"]])\n",
    "\n",
    "# Remove duplicate repositories\n",
    "df.drop_duplicates(\"url\", inplace=True)"
   ]
  },
  {
   "cell_type": "code",
   "execution_count": null,
   "metadata": {},
   "outputs": [],
   "source": [
    "df[df['name'] == 'android_frameworks_base']"
   ]
  },
  {
   "cell_type": "code",
   "execution_count": null,
   "metadata": {},
   "outputs": [],
   "source": [
    "# Keep specified languages\n",
    "language_set = {\n",
    "    \"Python\",\n",
    "    \"JavaScript\",\n",
    "    \"TypeScript\",\n",
    "    \"Go\",\n",
    "    \"Java\",\n",
    "    \"C++\",\n",
    "    \"C\",\n",
    "    \"Ruby\",\n",
    "    \"PHP\",\n",
    "    \"C#\",\n",
    "    \"Swift\",\n",
    "    \"Rust\",\n",
    "    \"Objective-C\",\n",
    "}\n",
    "\n",
    "# Filter out repositories not in language_set\n",
    "df = df[df[\"primaryLanguage\"].isin(language_set)]\n",
    "# Some repositories have name as nan or null, filter them directly\n",
    "df = df.dropna(subset=[\"name\"])\n",
    "df.info()\n"
   ]
  },
  {
   "cell_type": "code",
   "execution_count": null,
   "metadata": {},
   "outputs": [],
   "source": [
    "df[df[\"isFork\"] == True].shape[0]"
   ]
  },
  {
   "cell_type": "code",
   "execution_count": null,
   "metadata": {},
   "outputs": [],
   "source": [
    "# Filter fork repositories\n",
    "non_fork_df = df[df[\"isFork\"] == False]\n",
    "print(len(non_fork_df))\n",
    "\n",
    "# Filter repositories with fewer than 10 developers\n",
    "multi_devs_df = non_fork_df[non_fork_df[\"assignableUsers\"] >= 10]\n",
    "print(len(multi_devs_df))\n",
    "\n",
    "# Filter out repositories not in organizations\n",
    "org_df = multi_devs_df[multi_devs_df[\"isInOrganization\"] == True]\n",
    "\n",
    "# Filter out repositories larger than 4 GB (kilobytes)\n",
    "size_filtered_df = org_df[org_df[\"diskUsage\"] <= 4 * 1024 * 1024]\n",
    "\n",
    "print(len(org_df))\n",
    "print(len(size_filtered_df))"
   ]
  },
  {
   "cell_type": "code",
   "execution_count": null,
   "metadata": {},
   "outputs": [],
   "source": [
    "org_df['primaryLanguage'].value_counts()"
   ]
  },
  {
   "cell_type": "code",
   "execution_count": null,
   "metadata": {},
   "outputs": [],
   "source": [
    "# Keep only name and url columns\n",
    "output_df = size_filtered_df[[\"name\", \"url\"]]\n",
    "# Output to CSV\n",
    "output_df.to_csv(\"output/100+stars_4GB-_multidev_org_lang.csv\", index=False)"
   ]
  }
 ],
 "metadata": {
  "kernelspec": {
   "display_name": "dev38",
   "language": "python",
   "name": "python3"
  },
  "language_info": {
   "codemirror_mode": {
    "name": "ipython",
    "version": 3
   },
   "file_extension": ".py",
   "mimetype": "text/x-python",
   "name": "python",
   "nbconvert_exporter": "python",
   "pygments_lexer": "ipython3",
   "version": "3.8.13"
  }
 },
 "nbformat": 4,
 "nbformat_minor": 2
}
